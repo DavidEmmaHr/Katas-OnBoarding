{
 "cells": [
  {
   "cell_type": "markdown",
   "metadata": {},
   "source": [
    "## Ejercicio1 - Utilizar operadores aritméticos"
   ]
  },
  {
   "cell_type": "code",
   "execution_count": 26,
   "metadata": {},
   "outputs": [
    {
     "name": "stdout",
     "output_type": "stream",
     "text": [
      "La distancia entre los dos planetas en Km es:  238371796\n",
      "La distancia entre los dos planetas en Millas es:  148028885.31599998\n"
     ]
    }
   ],
   "source": [
    "# Crear variables para almacenar las dos distancias\n",
    "# ¡Asegúrate de quitar las comas!\n",
    "\n",
    "distancia_uno = 628949330\n",
    "distancia_dos = 390577534\n",
    "\n",
    "# Calcular la distancia entre planetas\n",
    "\n",
    "distancia_km = distancia_uno - distancia_dos\n",
    "print('La distancia entre los dos planetas en Km es: ',distancia_km)\n",
    "\n",
    "distancia_millas = distancia_km * 0.621\n",
    "print('La distancia entre los dos planetas en Millas es: ',distancia_millas)"
   ]
  },
  {
   "cell_type": "markdown",
   "metadata": {},
   "source": [
    "## Ejercicio 2: convierte cadenas en números y usa valores absolutos"
   ]
  },
  {
   "cell_type": "code",
   "execution_count": 28,
   "metadata": {},
   "outputs": [
    {
     "name": "stdout",
     "output_type": "stream",
     "text": [
      "La distancia entre el primer planeta y el segundo es de 50300000 KM.\n",
      "La distancia entre el primer planeta y el segundo es de 31236300.0 Millas.\n"
     ]
    }
   ],
   "source": [
    "# Almacenar las entradas del usuario\n",
    "\n",
    "distancia1 = int(input('Introduzca la distancia del sol para el primer planeta en KM'))\n",
    "distancia2 = int(input('Introduzca la distancia del sol para el segundo planeta en KM'))\n",
    "\n",
    "# Realizar el cálculo y determinar el valor absoluto\n",
    "\n",
    "distancia_km1= distancia1 - distancia2\n",
    "print('La distancia entre el primer planeta y el segundo es de',abs(distancia_km1),'KM.')\n",
    "\n",
    "distance_millas1 = distancia_km1 * 0.621\n",
    "print('La distancia entre el primer planeta y el segundo es de',abs(distance_millas1),'Millas.')"
   ]
  }
 ],
 "metadata": {
  "interpreter": {
   "hash": "be43bbd11eb809468bf1c4ea1377ce1a36478a995507102162e995ffb3dd0a23"
  },
  "kernelspec": {
   "display_name": "Python 3.9.10 64-bit (windows store)",
   "language": "python",
   "name": "python3"
  },
  "language_info": {
   "codemirror_mode": {
    "name": "ipython",
    "version": 3
   },
   "file_extension": ".py",
   "mimetype": "text/x-python",
   "name": "python",
   "nbconvert_exporter": "python",
   "pygments_lexer": "ipython3",
   "version": "3.9.10"
  },
  "orig_nbformat": 4
 },
 "nbformat": 4,
 "nbformat_minor": 2
}
