{
 "cells": [
  {
   "cell_type": "markdown",
   "metadata": {},
   "source": [
    "# Ejercicio - Escribir declaraciones if, else, y elif"
   ]
  },
  {
   "cell_type": "code",
   "execution_count": 7,
   "metadata": {},
   "outputs": [],
   "source": [
    "# Añadir el código necesario para crear una variable que guarde la velocidad del asteroide.\n",
    "# Escribe una expresión de prueba para calcular si necesita una advertencia.\n",
    "# Agregue las instrucciones que se ejecutarán si la expresión de prueba es true o false."
   ]
  },
  {
   "cell_type": "code",
   "execution_count": 6,
   "metadata": {},
   "outputs": [
    {
     "name": "stdout",
     "output_type": "stream",
     "text": [
      "Advertencia, un asteroide se acerca a la tierra demasiado rapido.\n"
     ]
    }
   ],
   "source": [
    "asteroide = 49\n",
    "\n",
    "if asteroide>25:\n",
    "    print(\"Advertencia, un asteroide se acerca a la tierra demasiado rapido.\")\n",
    "else:\n",
    "    print(\"Todo bien.\")"
   ]
  },
  {
   "cell_type": "code",
   "execution_count": null,
   "metadata": {},
   "outputs": [],
   "source": [
    "# Agrega el código para crear una variable para un asteroide que viaja a 19 km/s\n",
    "# Escribe varias expresiones de prueba para determinar si puedes ver el rayo de luz desde la tierra\n",
    "# Agrega las instrucciones que se ejecutarán si las expresiones de prueba son True o False"
   ]
  },
  {
   "cell_type": "code",
   "execution_count": 11,
   "metadata": {},
   "outputs": [
    {
     "name": "stdout",
     "output_type": "stream",
     "text": [
      "Sin novedades\n"
     ]
    }
   ],
   "source": [
    "asteroide = 19\n",
    "\n",
    "if asteroide>20:\n",
    "    print(\"¡Miren!, hay una luz en el cielo\")\n",
    "elif asteroide==20:\n",
    "    print(\"¡Miren!, hay una luz en el cielo\")\n",
    "else:\n",
    "    print(\"Sin novedades\")"
   ]
  },
  {
   "cell_type": "markdown",
   "metadata": {},
   "source": [
    "## Ejercicio: Uso de operadores and y or"
   ]
  },
  {
   "cell_type": "code",
   "execution_count": null,
   "metadata": {},
   "outputs": [],
   "source": [
    "# Agrega el código para crear nuevas variables para la velocidad y el tamaño del asteroide\n",
    "# Para probar el código, prueba con varias velocidades y tamaños\n",
    "# Escribe varias expresiones de prueba o combinaciones de expresiones de prueba para determinar qué mensaje se debe enviar a Tierra."
   ]
  },
  {
   "cell_type": "code",
   "execution_count": 1,
   "metadata": {},
   "outputs": [
    {
     "name": "stdout",
     "output_type": "stream",
     "text": [
      "Todo ok\n"
     ]
    }
   ],
   "source": [
    "asteroide_size = 1\n",
    "asteroide_vel = 1\n",
    "\n",
    "if (asteroide_size>25 and asteroide_vel>25) or asteroide_size>25 or asteroide_vel>25:\n",
    "    print(\"¡Peligro!, un asteroide se acerca a la tierra\")\n",
    "elif asteroide_vel>=20:\n",
    "    print(\"¡Miren!, hay una luz en el cielo\")\n",
    "else:\n",
    "    print(\"Todo ok\")\n"
   ]
  }
 ],
 "metadata": {
  "interpreter": {
   "hash": "be43bbd11eb809468bf1c4ea1377ce1a36478a995507102162e995ffb3dd0a23"
  },
  "kernelspec": {
   "display_name": "Python 3.9.10 64-bit (windows store)",
   "language": "python",
   "name": "python3"
  },
  "language_info": {
   "codemirror_mode": {
    "name": "ipython",
    "version": 3
   },
   "file_extension": ".py",
   "mimetype": "text/x-python",
   "name": "python",
   "nbconvert_exporter": "python",
   "pygments_lexer": "ipython3",
   "version": "3.9.10"
  },
  "orig_nbformat": 4
 },
 "nbformat": 4,
 "nbformat_minor": 2
}
